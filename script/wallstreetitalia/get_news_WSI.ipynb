{
 "metadata": {
  "language_info": {
   "codemirror_mode": {
    "name": "ipython",
    "version": 3
   },
   "file_extension": ".py",
   "mimetype": "text/x-python",
   "name": "python",
   "nbconvert_exporter": "python",
   "pygments_lexer": "ipython3",
   "version": "3.7.6-final"
  },
  "orig_nbformat": 2,
  "kernelspec": {
   "name": "python3",
   "display_name": "Python 3"
  }
 },
 "nbformat": 4,
 "nbformat_minor": 2,
 "cells": [
  {
   "cell_type": "code",
   "execution_count": 3,
   "metadata": {},
   "outputs": [],
   "source": [
    "import requests\n",
    "import urllib.request\n",
    "import datetime\n",
    "from bs4 import BeautifulSoup\n",
    "import pandas as pd\n",
    "import numpy as np\n",
    "import time\n",
    "import re\n",
    "\n",
    "date = str(datetime.date.today())"
   ]
  },
  {
   "cell_type": "code",
   "execution_count": 4,
   "metadata": {},
   "outputs": [],
   "source": [
    "data = pd.read_csv(\"wsi_map.csv\")\n",
    "result_map = pd.DataFrame()\n",
    "row_dict = {}"
   ]
  },
  {
   "cell_type": "code",
   "execution_count": 5,
   "metadata": {
    "tags": []
   },
   "outputs": [
    {
     "output_type": "stream",
     "name": "stdout",
     "text": [
      "processing:  0 https://www.wallstreetitalia.com/maxi-cash-collect-bnp-paribas-sfrutta-lefficienza-fiscale-con-premi-fino-al-18/\n",
      "--- 7.0319130420684814 seconds ---\n"
     ]
    }
   ],
   "source": [
    "start_time = time.time()\n",
    "\n",
    "for i,link in enumerate(data[\"news_link\"][0:20]):\n",
    "\n",
    "    if ( i%50 == 0 ):\n",
    "        print('processing: ', i, link)\n",
    "    response = requests.get(link)\n",
    "    soup = BeautifulSoup(response.text, 'html.parser')\n",
    "    try:\n",
    "        description = soup.find(\"meta\", {\"name\": re.compile(r'description')}).get(\"content\", None)\n",
    "        print(description)\n",
    "    except:\n",
    "        print(i,\"Error description link:\", link)\n",
    "        description = ''\n",
    "\n",
    "    try:\n",
    "        section = [ item.get(\"content\", None) for item in soup.findAll(\"meta\", { \"property\" : re.compile(r'section')}) ]\n",
    "        print(section)\n",
    "    except:\n",
    "        print(i,\"Error section link:\", link)\n",
    "        section = ''\n",
    "\n",
    "    try:\n",
    "        tag = [ item.get(\"content\", None) for item in soup.findAll(\"meta\", { \"property\" : re.compile(r'tag')}) ]\n",
    "    except:\n",
    "        print(i,\"Error tag link:\", link)\n",
    "        tag = ''\n",
    "\n",
    "    try:\n",
    "        category = [item.text for item in soup.find(\"div\", {\"class\":\"category\"}).findAll(\"li\")]\n",
    "        # print(category)\n",
    "    except:\n",
    "        print(i ,\"Error category link:\", link)\n",
    "        category = []\n",
    "    \n",
    "    row_dict = { 'link': link, 'section': section, 'tag': tag, 'category': category, 'description': description}\n",
    "    # print(category,description)\n",
    "    result_map = result_map.append([row_dict])\n",
    "\n",
    "    \n",
    "\n",
    "print(\"--- %s seconds ---\" % (time.time() - start_time)) "
   ]
  },
  {
   "cell_type": "code",
   "execution_count": 62,
   "metadata": {},
   "outputs": [],
   "source": [
    "result_map.to_csv('wsi_news5.csv')"
   ]
  },
  {
   "cell_type": "code",
   "execution_count": null,
   "metadata": {},
   "outputs": [],
   "source": []
  }
 ]
}